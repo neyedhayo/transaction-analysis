{
 "cells": [
  {
   "cell_type": "code",
   "execution_count": 9,
   "metadata": {},
   "outputs": [],
   "source": [
    "import pandas as pd\n",
    "import numpy as np\n",
    "\n",
    "import seaborn as sns\n",
    "sns.set_style('darkgrid')\n",
    "import matplotlib.pyplot as plt"
   ]
  },
  {
   "cell_type": "code",
   "execution_count": 10,
   "metadata": {},
   "outputs": [],
   "source": [
    "path = \"../data/cleaned_data.csv\"\n",
    "df = pd.read_csv(path)"
   ]
  },
  {
   "cell_type": "code",
   "execution_count": 12,
   "metadata": {},
   "outputs": [],
   "source": [
    "df.set_index('DateTime', inplace=True)"
   ]
  },
  {
   "cell_type": "code",
   "execution_count": 13,
   "metadata": {},
   "outputs": [
    {
     "data": {
      "text/html": [
       "<div>\n",
       "<style scoped>\n",
       "    .dataframe tbody tr th:only-of-type {\n",
       "        vertical-align: middle;\n",
       "    }\n",
       "\n",
       "    .dataframe tbody tr th {\n",
       "        vertical-align: top;\n",
       "    }\n",
       "\n",
       "    .dataframe thead th {\n",
       "        text-align: right;\n",
       "    }\n",
       "</style>\n",
       "<table border=\"1\" class=\"dataframe\">\n",
       "  <thead>\n",
       "    <tr style=\"text-align: right;\">\n",
       "      <th></th>\n",
       "      <th>AccountID</th>\n",
       "      <th>TransactionAmount</th>\n",
       "      <th>Status</th>\n",
       "    </tr>\n",
       "    <tr>\n",
       "      <th>DateTime</th>\n",
       "      <th></th>\n",
       "      <th></th>\n",
       "      <th></th>\n",
       "    </tr>\n",
       "  </thead>\n",
       "  <tbody>\n",
       "    <tr>\n",
       "      <th>2023-11-07 10:58:00</th>\n",
       "      <td>405126</td>\n",
       "      <td>500000.0</td>\n",
       "      <td>sent</td>\n",
       "    </tr>\n",
       "    <tr>\n",
       "      <th>2023-11-07 10:56:00</th>\n",
       "      <td>378829</td>\n",
       "      <td>7400.0</td>\n",
       "      <td>sent</td>\n",
       "    </tr>\n",
       "    <tr>\n",
       "      <th>2023-11-07 10:56:00</th>\n",
       "      <td>405469</td>\n",
       "      <td>3000.0</td>\n",
       "      <td>sent</td>\n",
       "    </tr>\n",
       "    <tr>\n",
       "      <th>2023-11-07 10:56:00</th>\n",
       "      <td>2262</td>\n",
       "      <td>2000.0</td>\n",
       "      <td>sent</td>\n",
       "    </tr>\n",
       "    <tr>\n",
       "      <th>2023-11-07 10:54:00</th>\n",
       "      <td>402063</td>\n",
       "      <td>1300.0</td>\n",
       "      <td>sent</td>\n",
       "    </tr>\n",
       "    <tr>\n",
       "      <th>...</th>\n",
       "      <td>...</td>\n",
       "      <td>...</td>\n",
       "      <td>...</td>\n",
       "    </tr>\n",
       "    <tr>\n",
       "      <th>2023-04-30 05:42:00</th>\n",
       "      <td>364922</td>\n",
       "      <td>583.0</td>\n",
       "      <td>sent</td>\n",
       "    </tr>\n",
       "    <tr>\n",
       "      <th>2023-04-30 05:33:00</th>\n",
       "      <td>364922</td>\n",
       "      <td>3525.0</td>\n",
       "      <td>sent</td>\n",
       "    </tr>\n",
       "    <tr>\n",
       "      <th>2023-04-30 05:13:00</th>\n",
       "      <td>353700</td>\n",
       "      <td>2000.0</td>\n",
       "      <td>sent</td>\n",
       "    </tr>\n",
       "    <tr>\n",
       "      <th>2023-04-30 05:00:00</th>\n",
       "      <td>178277</td>\n",
       "      <td>6000.0</td>\n",
       "      <td>sent</td>\n",
       "    </tr>\n",
       "    <tr>\n",
       "      <th>2023-04-30 04:59:00</th>\n",
       "      <td>353700</td>\n",
       "      <td>3000.0</td>\n",
       "      <td>sent</td>\n",
       "    </tr>\n",
       "  </tbody>\n",
       "</table>\n",
       "<p>100000 rows × 3 columns</p>\n",
       "</div>"
      ],
      "text/plain": [
       "                     AccountID  TransactionAmount Status\n",
       "DateTime                                                \n",
       "2023-11-07 10:58:00     405126           500000.0   sent\n",
       "2023-11-07 10:56:00     378829             7400.0   sent\n",
       "2023-11-07 10:56:00     405469             3000.0   sent\n",
       "2023-11-07 10:56:00       2262             2000.0   sent\n",
       "2023-11-07 10:54:00     402063             1300.0   sent\n",
       "...                        ...                ...    ...\n",
       "2023-04-30 05:42:00     364922              583.0   sent\n",
       "2023-04-30 05:33:00     364922             3525.0   sent\n",
       "2023-04-30 05:13:00     353700             2000.0   sent\n",
       "2023-04-30 05:00:00     178277             6000.0   sent\n",
       "2023-04-30 04:59:00     353700             3000.0   sent\n",
       "\n",
       "[100000 rows x 3 columns]"
      ]
     },
     "execution_count": 13,
     "metadata": {},
     "output_type": "execute_result"
    }
   ],
   "source": [
    "df"
   ]
  },
  {
   "cell_type": "code",
   "execution_count": 15,
   "metadata": {},
   "outputs": [
    {
     "data": {
      "text/plain": [
       "Index(['AccountID', 'TransactionAmount', 'Status'], dtype='object')"
      ]
     },
     "execution_count": 15,
     "metadata": {},
     "output_type": "execute_result"
    }
   ],
   "source": [
    "df.columns"
   ]
  },
  {
   "cell_type": "code",
   "execution_count": 16,
   "metadata": {},
   "outputs": [
    {
     "name": "stdout",
     "output_type": "stream",
     "text": [
      "<class 'pandas.core.frame.DataFrame'>\n",
      "Index: 100000 entries, 2023-11-07 10:58:00 to 2023-04-30 04:59:00\n",
      "Data columns (total 3 columns):\n",
      " #   Column             Non-Null Count   Dtype  \n",
      "---  ------             --------------   -----  \n",
      " 0   AccountID          100000 non-null  int64  \n",
      " 1   TransactionAmount  100000 non-null  float64\n",
      " 2   Status             100000 non-null  object \n",
      "dtypes: float64(1), int64(1), object(1)\n",
      "memory usage: 3.1+ MB\n"
     ]
    }
   ],
   "source": [
    "df.info()"
   ]
  },
  {
   "cell_type": "markdown",
   "metadata": {},
   "source": [
    "# user-based insights"
   ]
  },
  {
   "cell_type": "markdown",
   "metadata": {},
   "source": [
    "user's transaction counts per month, and those above 50 transactions per month"
   ]
  },
  {
   "cell_type": "code",
   "execution_count": null,
   "metadata": {},
   "outputs": [],
   "source": [
    "# user monthly transaction count\n",
    "monthly_transaction_counts = df.groupby([df['DateTime'].dt.year, df['DateTime'].dt.month, 'AccountID'])['TransactionAmount'].count()\n",
    "\n"
   ]
  }
 ],
 "metadata": {
  "kernelspec": {
   "display_name": "providerenv",
   "language": "python",
   "name": "python3"
  },
  "language_info": {
   "codemirror_mode": {
    "name": "ipython",
    "version": 3
   },
   "file_extension": ".py",
   "mimetype": "text/x-python",
   "name": "python",
   "nbconvert_exporter": "python",
   "pygments_lexer": "ipython3",
   "version": "3.10.12"
  }
 },
 "nbformat": 4,
 "nbformat_minor": 2
}
